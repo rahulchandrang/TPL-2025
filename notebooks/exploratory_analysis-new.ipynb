Exploratory Data Analysis Using Azure Blob Storage
This notebook performs exploratory data analysis (EDA) on CSV files stored in the Azure Blob Storage account globalmartmlsa under the source container. The analysis covers sales, inventory, customer behavior, and competitor data, and demonstrates how to connect to Azure Blob Storage using access keys.

1. Import Required Libraries
Import the necessary libraries for data handling, visualization, and Azure Blob Storage access.


# Import Required Libraries
import pandas as pd
import numpy as np
import matplotlib.pyplot as plt
import seaborn as sns
from azure.storage.blob import BlobServiceClient
import io

# Set visualization style
sns.set(style='whitegrid')
     
2. Connect to Azure Blob Storage and Load Data
Set up the connection to Azure Blob Storage using the storage account name and access key. Define a function to load CSV files from the source container and load the required datasets.


# Azure Blob Storage credentials
account_name = "globalmartmlsa"
account_key = ""  # Replace with your actual access key
container_name = "source"

# Set up BlobServiceClient
blob_service_client = BlobServiceClient(
    f"https://{account_name}.blob.core.windows.net",
    credential=account_key
)
container_client = blob_service_client.get_container_client(container_name)

def load_csv_from_blob(blob_name):
    blob_client = container_client.get_blob_client(blob_name)
    stream = blob_client.download_blob().readall()
    return pd.read_csv(io.BytesIO(stream))

# Load datasets
sales_data = load_csv_from_blob("sales_data_dictionary.csv")
inventory_data = load_csv_from_blob("inventory_data_dictionary.csv")
customer_behavior_data = load_csv_from_blob("customer_behavior_data_dictionary.csv")
competitor_data = load_csv_from_blob("competitor_data_dictionary.csv")



%python
from azure.storage.blob import BlobServiceClient
import pandas as pd
import io

# Configuration
account_name = "globalmartmlsa"
account_key = ""  # Replace with actual access key
container_name = "source"

# Setup BlobServiceClient
blob_service_client = BlobServiceClient(
    f"https://{account_name}.blob.core.windows.net",
    credential=account_key
)
container_client = blob_service_client.get_container_client(container_name)

# Utility function to load CSV from blob
def load_csv_from_blob(blob_name):
    blob_client = container_client.get_blob_client(blob_name)
    stream = blob_client.download_blob().readall()
    return pd.read_csv(io.BytesIO(stream))

# Load datasets
sales_data = load_csv_from_blob("Sales Data.csv")
inventory_data = load_csv_from_blob("Inventory Data.csv")
customer_behavior_data = load_csv_from_blob("Daily Customer Behavior.csv")
competitor_data = load_csv_from_blob("Competitor Pricing Data.csv")

# Parse and clean dates
sales_data['Date'] = pd.to_datetime(sales_data['TransactionDate'], errors='coerce', infer_datetime_format=True)
inventory_data['Date'] = pd.to_datetime(inventory_data['Date'], errors='coerce', infer_datetime_format=True)
customer_behavior_data['Date'] = pd.to_datetime(customer_behavior_data['Date'], errors='coerce', infer_datetime_format=True)
competitor_data['Date'] = pd.to_datetime(competitor_data['Date'], errors='coerce', infer_datetime_format=True)

# Check for any parsing errors
print("Sales Data - Null Dates:", sales_data['Date'].isnull().sum())
print("Inventory Data - Null Dates:", inventory_data['Date'].isnull().sum())
print("Customer Behavior Data - Null Dates:", customer_behavior_data['Date'].isnull().sum())
print("Competitor Data - Null Dates:", competitor_data['Date'].isnull().sum())

# Standardize string fields to avoid merge issues
for df in [inventory_data, sales_data, competitor_data]:
    if 'FC_ID' in df.columns:
        df['FC_ID'] = df['FC_ID'].astype(str).str.strip().str.upper()
    if 'Brand' in df.columns:
        df['Brand'] = df['Brand'].astype(str).str.strip().str.upper()

# Start merge process
print("✅ Inventory rows:", len(inventory_data))

# Merge inventory with sales on Date and FC_ID (if both present)
if 'FC_ID' in inventory_data.columns and 'FC_ID' in sales_data.columns:
    merged_df = pd.merge(inventory_data, sales_data, on=['Date', 'FC_ID'], how='left')
else:
    merged_df = pd.merge(inventory_data, sales_data, on='Date', how='left')
print("✅ After sales merge:", merged_df.shape)

# Merge with customer behavior on Date
merged_df = pd.merge(merged_df, customer_behavior_data, on='Date', how='left')
print("✅ After customer behavior merge:", merged_df.shape)

# Merge with competitor pricing on Date and Brand (if present)
if 'Brand' in competitor_data.columns and 'Brand' in merged_df.columns:
    merged_df = pd.merge(merged_df, competitor_data, on=['Date', 'Brand'], how='left')
else:
    merged_df = pd.merge(merged_df, competitor_data, on='Date', how='left')
print("✅ Final merged rows:", merged_df.shape)

# Preview the final output
display(merged_df)
