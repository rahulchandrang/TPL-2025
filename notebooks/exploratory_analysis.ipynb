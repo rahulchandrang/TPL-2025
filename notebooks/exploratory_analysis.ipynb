{
 "cells": [
  {
   "cell_type": "markdown",
   "id": "d2059752",
   "metadata": {},
   "source": [
    "# Exploratory Data Analysis Using Azure Blob Storage\n",
    "\n",
    "This notebook performs exploratory data analysis (EDA) on CSV files stored in the Azure Blob Storage account `globalmartmlsa` under the `source` container. The analysis covers sales, inventory, customer behavior, and competitor data, and demonstrates how to connect to Azure Blob Storage using access keys."
   ]
  },
  {
   "cell_type": "markdown",
   "id": "8716a38e",
   "metadata": {},
   "source": [
    "## 1. Import Required Libraries\n",
    "\n",
    "Import the necessary libraries for data handling, visualization, and Azure Blob Storage access."
   ]
  },
  {
   "cell_type": "code",
   "execution_count": null,
   "id": "9cd2b276",
   "metadata": {},
   "outputs": [],
   "source": [
    "# Import Required Libraries\n",
    "import pandas as pd\n",
    "import numpy as np\n",
    "import matplotlib.pyplot as plt\n",
    "import seaborn as sns\n",
    "from azure.storage.blob import BlobServiceClient\n",
    "import io\n",
    "\n",
    "# Set visualization style\n",
    "sns.set(style='whitegrid')"
   ]
  },
  {
   "cell_type": "markdown",
   "id": "17b6b97e",
   "metadata": {},
   "source": [
    "## 2. Connect to Azure Blob Storage and Load Data\n",
    "\n",
    "Set up the connection to Azure Blob Storage using the storage account name and access key. Define a function to load CSV files from the `source` container and load the required datasets."
   ]
  },
  {
   "cell_type": "code",
   "execution_count": null,
   "id": "3b4a09d8",
   "metadata": {},
   "outputs": [],
   "source": [
    "# Azure Blob Storage credentials\n",
    "account_name = \"globalmartmlsa\"\n",
    "account_key = \"<YOUR_ACCESS_KEY>\"  # Replace with your actual access key\n",
    "container_name = \"source\"\n",
    "\n",
    "# Set up BlobServiceClient\n",
    "blob_service_client = BlobServiceClient(\n",
    "    f\"https://{account_name}.blob.core.windows.net\",\n",
    "    credential=account_key\n",
    ")\n",
    "container_client = blob_service_client.get_container_client(container_name)\n",
    "\n",
    "def load_csv_from_blob(blob_name):\n",
    "    blob_client = container_client.get_blob_client(blob_name)\n",
    "    stream = blob_client.download_blob().readall()\n",
    "    return pd.read_csv(io.BytesIO(stream))\n",
    "\n",
    "# Load datasets\n",
    "sales_data = load_csv_from_blob(\"sales_data_dictionary.csv\")\n",
    "inventory_data = load_csv_from_blob(\"inventory_data_dictionary.csv\")\n",
    "customer_behavior_data = load_csv_from_blob(\"customer_behavior_data_dictionary.csv\")\n",
    "competitor_data = load_csv_from_blob(\"competitor_data_dictionary.csv\")"
   ]
  },
  {
   "cell_type": "markdown",
   "id": "1fc32a65",
   "metadata": {},
   "source": [
    "## 3. Display First Few Rows of Each Dataset\n",
    "\n",
    "Inspect the first few rows of each loaded DataFrame to understand the data structure."
   ]
  },
  {
   "cell_type": "code",
   "execution_count": null,
   "id": "40ceb808",
   "metadata": {},
   "outputs": [],
   "source": [
    "print(\"Sales Data:\")\n",
    "display(sales_data.head())\n",
    "print(\"Inventory Data:\")\n",
    "display(inventory_data.head())\n",
    "print(\"Customer Behavior Data:\")\n",
    "display(customer_behavior_data.head())\n",
    "print(\"Competitor Data:\")\n",
    "display(competitor_data.head())"
   ]
  },
  {
   "cell_type": "markdown",
   "id": "9bbf29b6",
   "metadata": {},
   "source": [
    "## 4. Summary Statistics for Each Dataset\n",
    "\n",
    "Generate summary statistics for each dataset using the `describe()` method."
   ]
  },
  {
   "cell_type": "code",
   "execution_count": null,
   "id": "61d7d525",
   "metadata": {},
   "outputs": [],
   "source": [
    "print(\"Sales Data Summary Statistics:\")\n",
    "display(sales_data.describe(include='all'))\n",
    "print(\"Inventory Data Summary Statistics:\")\n",
    "display(inventory_data.describe(include='all'))\n",
    "print(\"Customer Behavior Data Summary Statistics:\")\n",
    "display(customer_behavior_data.describe(include='all'))\n",
    "print(\"Competitor Data Summary Statistics:\")\n",
    "display(competitor_data.describe(include='all'))"
   ]
  },
  {
   "cell_type": "markdown",
   "id": "7c13cbc3",
   "metadata": {},
   "source": [
    "## 5. Check for Missing Values\n",
    "\n",
    "Check and print the number of missing values in each column for all datasets."
   ]
  },
  {
   "cell_type": "code",
   "execution_count": null,
   "id": "5cf6270c",
   "metadata": {},
   "outputs": [],
   "source": [
    "print(\"Sales Data missing values:\")\n",
    "print(sales_data.isnull().sum())\n",
    "print(\"\\nInventory Data missing values:\")\n",
    "print(inventory_data.isnull().sum())\n",
    "print(\"\\nCustomer Behavior Data missing values:\")\n",
    "print(customer_behavior_data.isnull().sum())\n",
    "print(\"\\nCompetitor Data missing values:\")\n",
    "print(competitor_data.isnull().sum())"
   ]
  },
  {
   "cell_type": "markdown",
   "id": "c63789f5",
   "metadata": {},
   "source": [
    "## 6. Visualize Selling Price Distribution\n",
    "\n",
    "Plot a histogram of the `SellingPrice` column from the sales data."
   ]
  },
  {
   "cell_type": "code",
   "execution_count": null,
   "id": "e3770f9f",
   "metadata": {},
   "outputs": [],
   "source": [
    "plt.figure(figsize=(10, 6))\n",
    "sns.histplot(sales_data['SellingPrice'], bins=30, kde=True)\n",
    "plt.title('Selling Price Distribution of Tide Products')\n",
    "plt.xlabel('Selling Price')\n",
    "plt.ylabel('Frequency')\n",
    "plt.show()"
   ]
  },
  {
   "cell_type": "markdown",
   "id": "f162b7cf",
   "metadata": {},
   "source": [
    "## 7. Correlation Heatmap for Sales Data\n",
    "\n",
    "Generate a correlation heatmap for numeric columns in the sales data."
   ]
  },
  {
   "cell_type": "code",
   "execution_count": null,
   "id": "c17f2d01",
   "metadata": {},
   "outputs": [],
   "source": [
    "plt.figure(figsize=(8, 6))\n",
    "corr = sales_data.select_dtypes(include=[np.number]).corr()\n",
    "sns.heatmap(corr, annot=True, fmt='.2f', cmap='coolwarm')\n",
    "plt.title('Correlation Heatmap - Sales Data')\n",
    "plt.show()"
   ]
  },
  {
   "cell_type": "markdown",
   "id": "08b69c88",
   "metadata": {},
   "source": [
    "## 8. Standardize and Merge Datasets\n",
    "\n",
    "Standardize date columns and merge all datasets on the `Date` column for joint analysis."
   ]
  },
  {
   "cell_type": "code",
   "execution_count": null,
   "id": "7e41d96d",
   "metadata": {},
   "outputs": [],
   "source": [
    "# Standardize date columns for merging\n",
    "for df in [sales_data, inventory_data, customer_behavior_data, competitor_data]:\n",
    "    if 'date' in df.columns:\n",
    "        df.rename(columns={'date': 'Date'}, inplace=True)\n",
    "\n",
    "# Merge on 'Date'\n",
    "final_df = sales_data \\\n",
    "    .merge(competitor_data, on='Date', how='left') \\\n",
    "    .merge(customer_behavior_data, on='Date', how='left') \\\n",
    "    .merge(inventory_data, on='Date', how='left')"
   ]
  },
  {
   "cell_type": "markdown",
   "id": "7d230357",
   "metadata": {},
   "source": [
    "## 9. Summary Statistics and Missing Values for Merged Data\n",
    "\n",
    "Display summary statistics and check for missing values in the merged DataFrame."
   ]
  },
  {
   "cell_type": "code",
   "execution_count": null,
   "id": "810e2707",
   "metadata": {},
   "outputs": [],
   "source": [
    "print(\"Merged DataFrame Summary Statistics:\")\n",
    "display(final_df.describe(include='all'))\n",
    "\n",
    "print(\"Merged DataFrame missing values:\")\n",
    "print(final_df.isnull().sum())"
   ]
  },
  {
   "cell_type": "markdown",
   "id": "8785136e",
   "metadata": {},
   "source": [
    "## 10. Visualize Selling Price Distribution in Merged Data\n",
    "\n",
    "Plot a histogram of the `SellingPrice` column from the merged DataFrame."
   ]
  },
  {
   "cell_type": "code",
   "execution_count": null,
   "id": "27c5b312",
   "metadata": {},
   "outputs": [],
   "source": [
    "if 'SellingPrice' in final_df.columns:\n",
    "    plt.figure(figsize=(10, 6))\n",
    "    sns.histplot(final_df['SellingPrice'].dropna(), bins=30, kde=True)\n",
    "    plt.title('Selling Price Distribution (Merged Data)')\n",
    "    plt.xlabel('Selling Price')\n",
    "    plt.ylabel('Frequency')\n",
    "    plt.show()"
   ]
  },
  {
   "cell_type": "markdown",
   "id": "ceee3c95",
   "metadata": {},
   "source": [
    "## 11. Correlation Heatmap for Merged Data\n",
    "\n",
    "Generate a correlation heatmap for numeric columns in the merged DataFrame."
   ]
  },
  {
   "cell_type": "code",
   "execution_count": null,
   "id": "9206b712",
   "metadata": {},
   "outputs": [],
   "source": [
    "plt.figure(figsize=(12, 8))\n",
    "corr_matrix = final_df.select_dtypes(include=[np.number]).corr()\n",
    "sns.heatmap(corr_matrix, annot=True, fmt='.2f', cmap='coolwarm')\n",
    "plt.title('Correlation Heatmap (Merged Data)')\n",
    "plt.show()"
   ]
  },
  {
   "cell_type": "markdown",
   "id": "653673be",
   "metadata": {},
   "source": [
    "---\n",
    "\n",
    "This concludes the exploratory data analysis using data loaded directly from Azure Blob Storage. The next steps may involve feature engineering and model development based on these insights."
   ]
  }
 ],
 "metadata": {
  "language_info": {
   "name": "python"
  }
 },
 "nbformat": 4,
 "nbformat_minor": 5
}
