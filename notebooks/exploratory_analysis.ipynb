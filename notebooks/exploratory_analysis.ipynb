{
 "cells": [
  {
   "cell_type": "markdown",
   "metadata": {},
   "source": [
    "# Exploratory Data Analysis for Tide Dynamic Pricing\n",
    "\n",
    "This notebook contains exploratory data analysis (EDA) for the dynamic pricing model of Tide at GlobalMart. The goal is to understand the data, identify patterns, and derive insights that can inform the pricing strategy."
   ]
  },
  {
   "cell_type": "code",
   "execution_count": null,
   "metadata": {},
   "outputs": [],
   "source": [
    "# --- Markdown Cell ---\n",
    "# Exploratory Data Analysis for Tide Dynamic Pricing\n",
    "\n",
    "This notebook contains exploratory data analysis (EDA) for the dynamic pricing model of Tide at GlobalMart. The goal is to understand the data, identify patterns, and derive insights that can inform the pricing strategy.\n",
    "\n",
    "# --- Python Cell ---\n",
    "# Import necessary libraries\n",
    "import pandas as pd\n",
    "import numpy as np\n",
    "import matplotlib.pyplot as plt\n",
    "import seaborn as sns\n",
    "\n",
    "# Set visualization style\n",
    "sns.set(style='whitegrid')\n",
    "\n",
    "# --- Python Cell ---\n",
    "# Load raw data files from data/raw\n",
    "sales_data = pd.read_csv('../data/raw/sales_data_dictionary.csv')\n",
    "inventory_data = pd.read_csv('../data/raw/inventory_data_dictionary.csv')\n",
    "customer_behavior_data = pd.read_csv('../data/raw/customer_behavior_data_dictionary.csv')\n",
    "competitor_data = pd.read_csv('../data/raw/competitor_data_dictionary.csv')\n",
    "\n",
    "# Display the first few rows of each dataset\n",
    "print(\"Sales Data:\")\n",
    "display(sales_data.head())\n",
    "print(\"Inventory Data:\")\n",
    "display(inventory_data.head())\n",
    "print(\"Customer Behavior Data:\")\n",
    "display(customer_behavior_data.head())\n",
    "print(\"Competitor Data:\")\n",
    "display(competitor_data.head())\n",
    "\n",
    "# --- Python Cell ---\n",
    "# Summary statistics for sales data\n",
    "sales_data.describe(include='all')\n",
    "\n",
    "# --- Python Cell ---\n",
    "# Check for missing values in all datasets\n",
    "print(\"Sales Data missing values:\")\n",
    "print(sales_data.isnull().sum())\n",
    "print(\"\\nInventory Data missing values:\")\n",
    "print(inventory_data.isnull().sum())\n",
    "print(\"\\nCustomer Behavior Data missing values:\")\n",
    "print(customer_behavior_data.isnull().sum())\n",
    "print(\"\\nCompetitor Data missing values:\")\n",
    "print(competitor_data.isnull().sum())\n",
    "\n",
    "# --- Python Cell ---\n",
    "# Visualize the distribution of SellingPrice in sales data\n",
    "plt.figure(figsize=(10, 6))\n",
    "sns.histplot(sales_data['SellingPrice'], bins=30, kde=True)\n",
    "plt.title('Selling Price Distribution of Tide Products')\n",
    "plt.xlabel('Selling Price')\n",
    "plt.ylabel('Frequency')\n",
    "plt.show()\n",
    "\n",
    "# --- Python Cell ---\n",
    "# Correlation heatmap for numeric columns in sales data\n",
    "plt.figure(figsize=(8, 6))\n",
    "corr = sales_data.select_dtypes(include=[np.number]).corr()\n",
    "sns.heatmap(corr, annot=True, fmt='.2f', cmap='coolwarm')\n",
    "plt.title('Correlation Heatmap - Sales Data')\n",
    "plt.show()\n",
    "\n",
    "# --- Markdown Cell ---\n",
    "## Insights and Next Steps\n",
    "\n",
    "Based on the exploratory data analysis of the raw data files, we can derive insights that will help in refining our dynamic pricing model. The next steps will involve feature engineering and model training."
   ]
  },
  {
   "cell_type": "code",
   "execution_count": null,
   "metadata": {
    "collapsed": false
   },
   "outputs": [],
   "source": [
    "# Import necessary libraries\n",
    "import pandas as pd\n",
    "import numpy as np\n",
    "import matplotlib.pyplot as plt\n",
    "import seaborn as sns\n",
    "\n",
    "# Set visualization style\n",
    "sns.set(style='whitegrid')"
   ]
  },
  {
   "cell_type": "code",
   "execution_count": null,
   "metadata": {
    "collapsed": false
   },
   "outputs": [],
   "source": [
    "# Load the dataset\n",
    "data_path = '../data/processed/tide_pricing_data.csv'\n",
    "tide_data = pd.read_csv(data_path)\n",
    "\n",
    "# Display the first few rows of the dataset\n",
    "tide_data.head()"
   ]
  },
  {
   "cell_type": "code",
   "execution_count": null,
   "metadata": {
    "collapsed": false
   },
   "outputs": [],
   "source": [
    "# Summary statistics\n",
    "tide_data.describe()"
   ]
  },
  {
   "cell_type": "code",
   "execution_count": null,
   "metadata": {
    "collapsed": false
   },
   "outputs": [],
   "source": [
    "# Check for missing values\n",
    "missing_values = tide_data.isnull().sum()\n",
    "missing_values[missing_values > 0]"
   ]
  },
  {
   "cell_type": "code",
   "execution_count": null,
   "metadata": {
    "collapsed": false
   },
   "outputs": [],
   "source": [
    "# Visualize the distribution of prices\n",
    "plt.figure(figsize=(10, 6))\n",
    "sns.histplot(tide_data['price'], bins=30, kde=True)\n",
    "plt.title('Price Distribution of Tide Products')\n",
    "plt.xlabel('Price')\n",
    "plt.ylabel('Frequency')\n",
    "plt.show()"
   ]
  },
  {
   "cell_type": "code",
   "execution_count": null,
   "metadata": {
    "collapsed": false
   },
   "outputs": [],
   "source": [
    "# Correlation heatmap\n",
    "plt.figure(figsize=(12, 8))\n",
    "correlation_matrix = tide_data.corr()\n",
    "sns.heatmap(correlation_matrix, annot=True, fmt='.2f', cmap='coolwarm')\n",
    "plt.title('Correlation Heatmap')\n",
    "plt.show()"
   ]
  },
  {
   "cell_type": "markdown",
   "metadata": {},
   "source": [
    "## Insights and Next Steps\n",
    "\n",
    "Based on the exploratory data analysis, we can derive insights that will help in refining our dynamic pricing model. The next steps will involve feature engineering and model training."
   ]
  }
 ],
 "metadata": {
  "kernelspec": {
   "display_name": "Python 3",
   "language": "python",
   "name": "python3"
  },
  "language_info": {
   "codemirror_mode": {
    "name": "ipython",
    "version": 3
   },
   "file_extension": ".py",
   "mimetype": "text/x-python",
   "name": "python",
   "nbconvert_exporter": "python",
   "pygments_lexer": "ipython3",
   "version": "3.8.5"
  }
 },
 "nbformat": 4,
 "nbformat_minor": 4
}
